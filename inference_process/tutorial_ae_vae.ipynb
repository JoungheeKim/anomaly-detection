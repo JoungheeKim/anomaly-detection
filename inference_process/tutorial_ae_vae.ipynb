{
 "cells": [
  {
   "cell_type": "code",
   "execution_count": 1,
   "metadata": {},
   "outputs": [],
   "source": [
    "import os\n",
    "from vae_adaptor import AutoEncoder_Inference\n",
    "import numpy as np"
   ]
  },
  {
   "cell_type": "markdown",
   "metadata": {},
   "source": [
    "## option 설정하기"
   ]
  },
  {
   "cell_type": "code",
   "execution_count": 2,
   "metadata": {},
   "outputs": [],
   "source": [
    "## Vae options\n",
    "vae_options_dict = {\n",
    "    \"model_path\": \"vae_result/20190512_20190515_result_vae\", ## ae 설정과 모델이 들어있는 폴더\n",
    "    \"no_cuda\": None, ## GPU를 사용 할지 안할지에 대한 옵션(True로 변경하면 CPU를 사용합니다.)\n",
    "}\n",
    "\n",
    "ae_option_dict = {\n",
    "    \"model_path\": \"ae_result/20190512_20190515_result_ae\", ## ae 설정과 모델이 들어있는 폴더\n",
    "    \"no_cuda\": None,  ## GPU를 사용 할지 안할지에 대한 옵션(True로 변경하면 CPU를 사용합니다.)\n",
    "}"
   ]
  },
  {
   "cell_type": "markdown",
   "metadata": {},
   "source": [
    "## 1. variational AutoEncoder 테스트"
   ]
  },
  {
   "cell_type": "code",
   "execution_count": 3,
   "metadata": {},
   "outputs": [
    {
     "name": "stdout",
     "output_type": "stream",
     "text": [
      "Restored checkpoint from pytorch_model.bin.\n"
     ]
    }
   ],
   "source": [
    "## 학습된 variational autoencoder 모델 불러오기\n",
    "vae_adaptor = AutoEncoder_Inference(vae_options_dict)"
   ]
  },
  {
   "cell_type": "code",
   "execution_count": 4,
   "metadata": {},
   "outputs": [],
   "source": [
    "## input을 리스트 형태로 생성\n",
    "input = np.random.randn(31)"
   ]
  },
  {
   "cell_type": "code",
   "execution_count": 5,
   "metadata": {},
   "outputs": [],
   "source": [
    "## input으로부터 output 추출\n",
    "abnormal_score, var_importance = vae_adaptor.get_output(input)"
   ]
  },
  {
   "cell_type": "code",
   "execution_count": 7,
   "metadata": {},
   "outputs": [
    {
     "name": "stdout",
     "output_type": "stream",
     "text": [
      "204964.53125\n",
      "[4.198581695556641, 53.72628402709961, 3182.0126953125, 470.81768798828125, 8807.7861328125, 817.036865234375, 230.28765869140625, 7.807440280914307, 15.449660301208496, 69.69351959228516, 123.0760269165039, 48.069801330566406, 70.35741424560547, 964.3763427734375, 659.0449829101562, 349.89544677734375, 3.3052828311920166, 511.35064697265625, 41.8957405090332, 25.76687240600586, 1654.9378662109375, 1063.810546875, 839.1514282226562, 23.617511749267578, 424.08197021484375, 93.81576538085938, 1740.9605712890625, 24.124250411987305, 182634.703125, 7.896843433380127, 1.492183804512024]\n"
     ]
    }
   ],
   "source": [
    "print(abnormal_score)\n",
    "print(var_importance)"
   ]
  },
  {
   "cell_type": "markdown",
   "metadata": {},
   "source": [
    "## 2. AutoEncoder 테스트"
   ]
  },
  {
   "cell_type": "code",
   "execution_count": 8,
   "metadata": {},
   "outputs": [
    {
     "name": "stdout",
     "output_type": "stream",
     "text": [
      "Restored checkpoint from pytorch_model.bin.\n"
     ]
    }
   ],
   "source": [
    "## 학습된 autoencoder 모델 불러오기\n",
    "ae_adaptor = AutoEncoder_Inference(ae_option_dict)"
   ]
  },
  {
   "cell_type": "code",
   "execution_count": 9,
   "metadata": {},
   "outputs": [],
   "source": [
    "## input을 리스트 형태로 생성\n",
    "input = np.random.randn(31)"
   ]
  },
  {
   "cell_type": "code",
   "execution_count": 10,
   "metadata": {},
   "outputs": [],
   "source": [
    "## input으로부터 output 추출\n",
    "abnormal_score, var_importance = ae_adaptor.get_output(input)"
   ]
  },
  {
   "cell_type": "code",
   "execution_count": 11,
   "metadata": {},
   "outputs": [
    {
     "name": "stdout",
     "output_type": "stream",
     "text": [
      "34568.36328125\n",
      "[1.1109790802001953, 37.661155700683594, 1736.5833740234375, 1044.073486328125, 8533.4052734375, 595.102294921875, 140.8319091796875, 4.9402241706848145, 4.919961452484131, 117.28094482421875, 116.88650512695312, 44.10056686401367, 83.20745086669922, 319.31280517578125, 406.7281188964844, 271.7442932128906, 31.801025390625, 9.473421096801758, 20.89447784423828, 10.926604270935059, 869.4532470703125, 221.17257690429688, 282.8447570800781, 161.10716247558594, 20.331501007080078, 42.84601593017578, 620.0840454101562, 222.70370483398438, 18217.99609375, 133.8148193359375, 245.0244140625]\n"
     ]
    }
   ],
   "source": [
    "print(abnormal_score)\n",
    "print(var_importance)"
   ]
  },
  {
   "cell_type": "code",
   "execution_count": null,
   "metadata": {},
   "outputs": [],
   "source": []
  }
 ],
 "metadata": {
  "kernelspec": {
   "display_name": "Python 3",
   "language": "python",
   "name": "python3"
  },
  "language_info": {
   "codemirror_mode": {
    "name": "ipython",
    "version": 3
   },
   "file_extension": ".py",
   "mimetype": "text/x-python",
   "name": "python",
   "nbconvert_exporter": "python",
   "pygments_lexer": "ipython3",
   "version": "3.8.3"
  }
 },
 "nbformat": 4,
 "nbformat_minor": 4
}
